{
 "cells": [
  {
   "cell_type": "markdown",
   "id": "3ebdbd10",
   "metadata": {},
   "source": [
    "## Let's first import the necessary libraries."
   ]
  },
  {
   "cell_type": "code",
   "execution_count": 44,
   "id": "0ec01e18-89a6-4319-810f-0043f626393a",
   "metadata": {},
   "outputs": [
    {
     "name": "stdout",
     "output_type": "stream",
     "text": [
      "PA37F7DIWXPQ\n",
      "199457.98\n"
     ]
    }
   ],
   "source": [
    "#!pip install alpaca-py\n",
    "#!pip install scikit-learn\n",
    "from alpaca.trading.requests import MarketOrderRequest \n",
    "from alpaca.trading.enums import OrderSide, TimeInForce\n",
    "from alpaca.trading.client import TradingClient\n",
    "trading_client = TradingClient('PKZ2QZLDNOZ3NAH5BBSC', 'zZOheM14bQ35PJkCHrwyU4CgMcSke6sFvdbWPD7S')\n",
    "print(trading_client.get_account().account_number)\n",
    "print(trading_client.get_account().buying_power)\n",
    "from alpaca.data import StockHistoricalDataClient, StockTradesRequest, StockBarsRequest\n",
    "from datetime import datetime\n",
    "from datetime import timedelta\n",
    "from alpaca.data import CryptoHistoricalDataClient,CryptoTradesRequest, CryptoBarsRequest\n",
    "from alpaca.data.timeframe import TimeFrame\n",
    "import pandas as pd\n",
    "import sklearn as sk\n",
    "import numpy as np\n",
    "from sklearn.linear_model import LinearRegression\n",
    "from sklearn.model_selection import train_test_split\n",
    "\n",
    "\n",
    "\n",
    "data_client = StockHistoricalDataClient('PKZ2QZLDNOZ3NAH5BBSC', 'zZOheM14bQ35PJkCHrwyU4CgMcSke6sFvdbWPD7S')\n",
    "FXdata_client = CryptoHistoricalDataClient('PKZ2QZLDNOZ3NAH5BBSC', 'zZOheM14bQ35PJkCHrwyU4CgMcSke6sFvdbWPD7S')\n",
    "trading_client = TradingClient('PKZ2QZLDNOZ3NAH5BBSC', 'zZOheM14bQ35PJkCHrwyU4CgMcSke6sFvdbWPD7S')\n",
    "# market_order_data = MarketOrderRequest(\n",
    "#     symbol = 'SOL', #Good ETF to buy for introduction\n",
    "#     qty = 3,\n",
    "#     side = OrderSide.BUY,\n",
    "#     time_in_force = TimeInForce.DAY #order's opened till EOD or cancel\n",
    "#     #This is a market order request, there's no limit price that we want to buy at, we're just buying no matter\n",
    "#     # price SPY's currently at.\n",
    "\n",
    "# )\n",
    "# market_order = trading_client.submit_order(market_order_data)\n",
    "\n",
    "def makeOrder(symbol, numShares, orderType, type):\n",
    "    tforce = None\n",
    "    if type == 'stock':\n",
    "        tforce = TimeInForce.DAY \n",
    "    else:\n",
    "        tforce = TimeInForce.GTC \n",
    "    oside = None\n",
    "    if orderType == 'buy':\n",
    "        oside = OrderSide.BUY\n",
    "    else:\n",
    "        oside = OrderSide.SELL\n",
    "\n",
    "    market_order_data = MarketOrderRequest(\n",
    "        symbol = symbol, #Good ETF to buy for introduction\n",
    "        qty = numShares,\n",
    "        side = oside,\n",
    "        time_in_force = tforce\n",
    "        )\n",
    "    market_order = trading_client.submit_order(market_order_data)\n",
    "    \n",
    "    #order's opened till EOD or cancel\n",
    "        #This is a market order request, there's no limit price that we want to buy at, we're just buying no matter\n",
    "        # price SPY's currently at.\n",
    "\n",
    "def portfolioSize(symbol):\n",
    "    try:\n",
    "        open_positions = trading_client.get_open_position(symbol)\n",
    "        qty = open_positions.qty_available\n",
    "        return qty\n",
    "    #     print(len(open_positions))\n",
    "    except:\n",
    "        return 0\n",
    "\n",
    "\n",
    "\n",
    "# #print(open_positions)\n",
    "# #print(len(trading_client.get_all_positions()))\n"
   ]
  },
  {
   "cell_type": "markdown",
   "id": "5aed5bab",
   "metadata": {},
   "source": [
    "## I'd now like to develop a function that will allow me to pull the most recent bars for a set amount of time from now in dataframe form in order to develop my linear regression. Given that I plan to potentially work with different types of data, I'd like to be able to pull both Stock and Cryptocurrency data."
   ]
  },
  {
   "cell_type": "code",
   "execution_count": 42,
   "id": "5d26edd5",
   "metadata": {},
   "outputs": [],
   "source": [
    "import time\n",
    "def currentTrades(symbol, minutesBack, type):\n",
    "    print(symbol)\n",
    "    currentDate = datetime.now()\n",
    "    delta = timedelta(minutes= - minutesBack)\n",
    "    previousDate = currentDate + delta\n",
    "    if type == 'stock':\n",
    "        request_params = StockBarsRequest(symbol_or_symbols = symbol, timeframe = TimeFrame.Minute, start = previousDate, end = currentDate)\n",
    "        bars = data_client.get_stock_bars(request_params)\n",
    "        df = bars.df\n",
    "        return df\n",
    "    else:\n",
    "        request_params = CryptoBarsRequest(symbol_or_symbols = symbol, timeframe = TimeFrame.Minute, start = previousDate, end = currentDate)\n",
    "        bars = FXdata_client.get_crypto_bars(request_params)\n",
    "        df = bars.df\n",
    "        return df        \n",
    "\n",
    "\n",
    "#df = periodic_work(60, 'AAPL', 60)"
   ]
  },
  {
   "cell_type": "markdown",
   "id": "62d1d464",
   "metadata": {},
   "source": [
    "## Now, I'd like to try and develop a model for a Linear Regression based on the Open, High, Low, and Close WVAP as predictors and the Close as the target, using the signal as described in the README file."
   ]
  },
  {
   "cell_type": "code",
   "execution_count": null,
   "id": "d577abdc",
   "metadata": {},
   "outputs": [
    {
     "name": "stdout",
     "output_type": "stream",
     "text": [
      "SOL/USD\n",
      "92\n",
      "-172.92275\n",
      "Index(['close', 'signal', 'next_close'], dtype='object')\n",
      "91\n",
      "91\n",
      "72\n",
      "72\n",
      "Equation:  y = -0.8381880671743012x + 27.930954883666885\n",
      "172.905\n",
      "172.87274047663178\n"
     ]
    },
    {
     "name": "stderr",
     "output_type": "stream",
     "text": [
      "/var/folders/3s/gp2ztt_d2cn_dn33vj1cbx2h0000gn/T/ipykernel_1225/3683373354.py:8: FutureWarning: Series.__getitem__ treating keys as positions is deprecated. In a future version, integer keys will always be treated as labels (consistent with DataFrame behavior). To access a value by position, use `ser.iloc[pos]`\n",
      "  recentSignal = df['signal'][-1]\n",
      "/var/folders/3s/gp2ztt_d2cn_dn33vj1cbx2h0000gn/T/ipykernel_1225/3683373354.py:10: FutureWarning: Series.__getitem__ treating keys as positions is deprecated. In a future version, integer keys will always be treated as labels (consistent with DataFrame behavior). To access a value by position, use `ser.iloc[pos]`\n",
      "  finalClose = df['close'][-1]\n"
     ]
    },
    {
     "name": "stdout",
     "output_type": "stream",
     "text": [
      "DID NOTHING\n"
     ]
    }
   ],
   "source": [
    "def executeStrategy(interval, symbol, minutesBack, type):\n",
    "    while True:\n",
    "        df = currentTrades(symbol, minutesBack, type)\n",
    "       # (((high * low)^0.5) - vwap)\n",
    "        print(len(df))\n",
    "        df['signal'] = ((np.power(0.5, (df['high'] * df['low']))) - df['vwap'])\n",
    "        df['next_close'] = df['close'].shift(-1).dropna()\n",
    "        recentSignal = df['signal'][-1]\n",
    "        print(recentSignal)\n",
    "        finalClose = df['close'][-1]\n",
    "        df = df.drop(columns = ['volume', 'trade_count', 'open', 'high', 'low','vwap' ])\n",
    "        df = df.dropna()\n",
    "        #print(df[['close', 'next_close', 'signal']])\n",
    "        print(df.columns)\n",
    "\n",
    "        #Now, let's create our model.\n",
    "        model = LinearRegression()\n",
    "        X = df['signal']\n",
    "        y = df['next_close']\n",
    "        print(len(X))\n",
    "        print(len(y))\n",
    "        X_train, X_test, y_train, y_test = train_test_split(X, y, test_size= 0.2, random_state= 23)\n",
    "        X_train = np.array(X_train).reshape(-1, 1)\n",
    "        print(len(X_train))\n",
    "        print(len(y_train))\n",
    "        model.fit(X_train, y_train)\n",
    "        coefficient = model.coef_[0]\n",
    "        intercept = model.intercept_\n",
    "        print(f'Equation:  y = {coefficient}x + {intercept}')\n",
    "\n",
    "\n",
    "\n",
    "        predictedPrice =  coefficient*recentSignal + intercept #just using the actual parameters here instead of predict.clear\n",
    "        print(finalClose)\n",
    "        print(predictedPrice)\n",
    "        if predictedPrice > finalClose:\n",
    "            if portfolioSize(symbol) < 2:\n",
    "                makeOrder(symbol, 1, 'buy', type)\n",
    "                print(\"BOUGHT SHARE\")\n",
    "            else:\n",
    "                print(\"DID NOTHING\")\n",
    "            #want to buy! however, for the time being I want to keep my portfolio small, so I will only allow us to have bought 2 shares \n",
    "        else:\n",
    "            if portfolioSize(symbol) > 0:\n",
    "                makeOrder(symbol, portfolioSize(symbol), 'sell', type)\n",
    "                print(\"SOLD SHARE\")\n",
    "            else:\n",
    "                print(\"DID NOTHING\")\n",
    "            #want to sell here\n",
    "        \n",
    "\n",
    "       # df.plot(x='signal', y='next_close', kind='scatter')\n",
    "        time.sleep(interval)\n",
    "        \n",
    "executeStrategy(3600, 'SOL/USD', 100, 'crypto')"
   ]
  },
  {
   "cell_type": "code",
   "execution_count": null,
   "id": "5212161c",
   "metadata": {},
   "outputs": [],
   "source": []
  }
 ],
 "metadata": {
  "kernelspec": {
   "display_name": "base",
   "language": "python",
   "name": "python3"
  },
  "language_info": {
   "codemirror_mode": {
    "name": "ipython",
    "version": 3
   },
   "file_extension": ".py",
   "mimetype": "text/x-python",
   "name": "python",
   "nbconvert_exporter": "python",
   "pygments_lexer": "ipython3",
   "version": "3.12.7"
  }
 },
 "nbformat": 4,
 "nbformat_minor": 5
}
